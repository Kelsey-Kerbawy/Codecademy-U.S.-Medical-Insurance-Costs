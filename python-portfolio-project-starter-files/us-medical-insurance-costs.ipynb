{
 "cells": [
  {
   "cell_type": "markdown",
   "metadata": {},
   "source": [
    "# U.S. Medical Insurance Costs"
   ]
  },
  {
   "cell_type": "markdown",
   "metadata": {},
   "source": [
    "## Import the dataset.\n",
    "Import the **insurance.csv** into the Python file and inspect the contents."
   ]
  },
  {
   "cell_type": "code",
   "execution_count": 1,
   "metadata": {},
   "outputs": [],
   "source": [
    "import csv\n",
    "\n",
    "insurance_dict = {\n",
    "    \"age\":[],\n",
    "    \"sex\":[],\n",
    "    \"bmi\":[],\n",
    "    \"children\":[],\n",
    "    \"smoker\":[],\n",
    "    \"region\":[],\n",
    "    \"charges\":[]\n",
    "}\n",
    "\n",
    "with open(\"insurance.csv\") as insurance_csv:\n",
    "    insurance_data = csv.DictReader(insurance_csv)\n",
    "    for row in insurance_data:\n",
    "        insurance_dict['age'].append(row['age'])\n",
    "        insurance_dict['sex'].append(row['sex'])\n",
    "        insurance_dict['bmi'].append(row['bmi'])\n",
    "        insurance_dict['children'].append(row['children'])\n",
    "        insurance_dict['smoker'].append(row['smoker'])\n",
    "        insurance_dict['region'].append(row['region'])\n",
    "        insurance_dict['charges'].append(row['charges'])\n"
   ]
  }
 ],
 "metadata": {
  "kernelspec": {
   "display_name": "Python 3.9.6 64-bit",
   "language": "python",
   "name": "python3"
  },
  "language_info": {
   "codemirror_mode": {
    "name": "ipython",
    "version": 3
   },
   "file_extension": ".py",
   "mimetype": "text/x-python",
   "name": "python",
   "nbconvert_exporter": "python",
   "pygments_lexer": "ipython3",
   "version": "3.9.6"
  },
  "vscode": {
   "interpreter": {
    "hash": "aee8b7b246df8f9039afb4144a1f6fd8d2ca17a180786b69acc140d282b71a49"
   }
  }
 },
 "nbformat": 4,
 "nbformat_minor": 4
}
