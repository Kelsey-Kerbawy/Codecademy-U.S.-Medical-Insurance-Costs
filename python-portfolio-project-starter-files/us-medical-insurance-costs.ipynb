{
 "cells": [
  {
   "cell_type": "markdown",
   "metadata": {},
   "source": [
    "# U.S. Medical Insurance Costs"
   ]
  },
  {
   "cell_type": "markdown",
   "metadata": {},
   "source": [
    "## Import the dataset.\n",
    "Import the **insurance.csv** into the Python file and inspect the contents."
   ]
  },
  {
   "cell_type": "code",
   "execution_count": 1,
   "metadata": {},
   "outputs": [],
   "source": [
    "import csv\n",
    "\n",
    "insurance_dict = {\n",
    "    \"age\":[],\n",
    "    \"sex\":[],\n",
    "    \"bmi\":[],\n",
    "    \"children\":[],\n",
    "    \"smoker\":[],\n",
    "    \"region\":[],\n",
    "    \"charges\":[]\n",
    "}\n",
    "\n",
    "with open(\"insurance.csv\") as insurance_csv:\n",
    "    insurance_data = csv.DictReader(insurance_csv)\n",
    "    for row in insurance_data:\n",
    "        insurance_dict['age'].append(row['age'])\n",
    "        insurance_dict['sex'].append(row['sex'])\n",
    "        insurance_dict['bmi'].append(row['bmi'])\n",
    "        insurance_dict['children'].append(row['children'])\n",
    "        insurance_dict['smoker'].append(row['smoker'])\n",
    "        insurance_dict['region'].append(row['region'])\n",
    "        insurance_dict['charges'].append(row['charges'])\n"
   ]
  },
  {
   "cell_type": "markdown",
   "metadata": {},
   "source": [
    "## Save your dataset via Python variables\n",
    "\n",
    "Save the features of your dataset (the columns) from **insurance.csv** by storing them in variables that can be used for analysis. As you consider what types of variables to use and how many you plan to create, think ahead about the parameters you wish to investigate and how your organization will impact this analysis"
   ]
  },
  {
   "cell_type": "code",
   "execution_count": 2,
   "metadata": {},
   "outputs": [],
   "source": [
    "age  = insurance_dict['age']\n",
    "sex = insurance_dict['sex']\n",
    "bmi = insurance_dict['bmi']\n",
    "children = insurance_dict['children']\n",
    "smoker = insurance_dict['smoker']\n",
    "region = insurance_dict['region']\n",
    "charges = insurance_dict['charges']"
   ]
  },
  {
   "cell_type": "markdown",
   "metadata": {},
   "source": [
    "Change age from string to integer."
   ]
  },
  {
   "cell_type": "code",
   "execution_count": 3,
   "metadata": {},
   "outputs": [],
   "source": [
    "age = [int(x) for x in age]"
   ]
  },
  {
   "cell_type": "markdown",
   "metadata": {},
   "source": [
    "Representing the sex variable as a boolean variable where `True` if data is 'male'."
   ]
  },
  {
   "cell_type": "code",
   "execution_count": 4,
   "metadata": {},
   "outputs": [],
   "source": [
    "is_male = [True if x == 'male' else False for x in sex]"
   ]
  },
  {
   "cell_type": "markdown",
   "metadata": {},
   "source": [
    "Change BMI from string to float"
   ]
  },
  {
   "cell_type": "code",
   "execution_count": 5,
   "metadata": {},
   "outputs": [],
   "source": [
    "bmi = [float(x) for x in bmi]"
   ]
  },
  {
   "cell_type": "markdown",
   "metadata": {},
   "source": [
    "Representing the number of children variable as a integer instead of a string."
   ]
  },
  {
   "cell_type": "code",
   "execution_count": 6,
   "metadata": {},
   "outputs": [],
   "source": [
    "children = [int(x) for x in children]"
   ]
  },
  {
   "cell_type": "markdown",
   "metadata": {},
   "source": [
    "Representing the smoker variable as a boolean variable where `True` if data is 'smoker'."
   ]
  },
  {
   "cell_type": "code",
   "execution_count": 7,
   "metadata": {},
   "outputs": [],
   "source": [
    "is_smoker = [True if x == 'yes' else False for x in smoker]"
   ]
  },
  {
   "cell_type": "markdown",
   "metadata": {},
   "source": [
    "Change charges to float from string."
   ]
  },
  {
   "cell_type": "code",
   "execution_count": 8,
   "metadata": {},
   "outputs": [],
   "source": [
    "charges = [float(x) for x in charges]"
   ]
  },
  {
   "cell_type": "markdown",
   "metadata": {},
   "source": [
    "## Build out analysis functions or class methods\n",
    "\n",
    "You now have everything you need to begin your analysis. You have organized the information from **insurance.csv** and have spent some time thinking about what it is you would like to investigate.\n",
    "\n",
    "Now is the time to build out how you perform these investigations. Use the Python fundamentals you have learned so far to accomplish these tasks."
   ]
  },
  {
   "cell_type": "code",
   "execution_count": 9,
   "metadata": {},
   "outputs": [],
   "source": [
    "class Calculations:\n",
    "    \n",
    "    def calculate_average(num_list : list):\n",
    "        total = 0\n",
    "        for item in num_list:\n",
    "            total += item\n",
    "        return total/len(num_list)\n",
    "    \n",
    "    def calculate_proportion_true(bool_list: list):\n",
    "        count = 0\n",
    "        for item in bool_list:\n",
    "            if item:\n",
    "                count +=1\n",
    "        return count/len(bool_list)\n",
    "\n",
    "    def calculate_proportion_false(bool_list: list):\n",
    "        count = 0\n",
    "        for item in bool_list:\n",
    "            if item == False:\n",
    "                count +=1\n",
    "        return count/len(bool_list)\n",
    "    \n",
    "    def calculate_ratio_true_to_false(bool_list:list):\n",
    "        count_true = 0\n",
    "        count_false = 0\n",
    "        for item in bool_list:\n",
    "            if item:\n",
    "                count_true += 1\n",
    "            else:\n",
    "                count_false += 1\n",
    "        return count_true/count_false\n"
   ]
  },
  {
   "cell_type": "markdown",
   "metadata": {},
   "source": [
    "The average age of the clients in the data set."
   ]
  },
  {
   "cell_type": "code",
   "execution_count": 11,
   "metadata": {},
   "outputs": [
    {
     "name": "stdout",
     "output_type": "stream",
     "text": [
      "39\n"
     ]
    }
   ],
   "source": [
    "average_age = Calculations.calculate_average(age)\n",
    "\n",
    "print(round(average_age))"
   ]
  },
  {
   "cell_type": "markdown",
   "metadata": {},
   "source": [
    "The average bmi of the clients in the data set. The average client is obese according to [CDC](https://www.cdc.gov/healthyweight/assessing/bmi/adult_bmi/index.html) interpretations."
   ]
  },
  {
   "cell_type": "code",
   "execution_count": 13,
   "metadata": {},
   "outputs": [
    {
     "name": "stdout",
     "output_type": "stream",
     "text": [
      "30.66\n"
     ]
    }
   ],
   "source": [
    "average_bmi = Calculations.calculate_average(bmi)\n",
    "print(round(average_bmi,2))"
   ]
  },
  {
   "cell_type": "markdown",
   "metadata": {},
   "source": [
    "The average insurance charges for the clients in the data set."
   ]
  },
  {
   "cell_type": "code",
   "execution_count": 14,
   "metadata": {},
   "outputs": [
    {
     "name": "stdout",
     "output_type": "stream",
     "text": [
      "13270.42\n"
     ]
    }
   ],
   "source": [
    "average_charges = Calculations.calculate_average(charges)\n",
    "print(round(average_charges,2))"
   ]
  },
  {
   "cell_type": "markdown",
   "metadata": {},
   "source": [
    "Proportion of males and proportion of females to the sample set."
   ]
  },
  {
   "cell_type": "code",
   "execution_count": 18,
   "metadata": {},
   "outputs": [
    {
     "name": "stdout",
     "output_type": "stream",
     "text": [
      "Proportion of males: 0.51\n",
      "Proportion of females: 0.49\n"
     ]
    }
   ],
   "source": [
    "prop_of_males = Calculations.calculate_proportion_true(is_male)\n",
    "print(\"Proportion of males: \" + str(round(prop_of_males,2)))\n",
    "prop_of_females = Calculations.calculate_proportion_false(is_male)\n",
    "print(\"Proportion of females: \" + str(round(prop_of_females,2)))\n"
   ]
  },
  {
   "cell_type": "markdown",
   "metadata": {},
   "source": [
    "Ratio of males to females in the sample set."
   ]
  },
  {
   "cell_type": "code",
   "execution_count": 20,
   "metadata": {},
   "outputs": [
    {
     "name": "stdout",
     "output_type": "stream",
     "text": [
      "Proportion of males to females: 1.02\n"
     ]
    }
   ],
   "source": [
    "ratio_males_to_females = Calculations.calculate_ratio_true_to_false(is_male)\n",
    "print(\"Ratio of males to females: \" + str(round(ratio_males_to_females,2)))"
   ]
  },
  {
   "cell_type": "markdown",
   "metadata": {},
   "source": [
    "Proportion of smokers in the data set."
   ]
  },
  {
   "cell_type": "code",
   "execution_count": 22,
   "metadata": {},
   "outputs": [
    {
     "name": "stdout",
     "output_type": "stream",
     "text": [
      "0.2\n"
     ]
    }
   ],
   "source": [
    "prop_of_smokers = Calculations.calculate_proportion_true(is_smoker)\n",
    "print(round(prop_of_smokers,2))"
   ]
  }
 ],
 "metadata": {
  "kernelspec": {
   "display_name": "Python 3.9.6 64-bit",
   "language": "python",
   "name": "python3"
  },
  "language_info": {
   "codemirror_mode": {
    "name": "ipython",
    "version": 3
   },
   "file_extension": ".py",
   "mimetype": "text/x-python",
   "name": "python",
   "nbconvert_exporter": "python",
   "pygments_lexer": "ipython3",
   "version": "3.9.6"
  },
  "vscode": {
   "interpreter": {
    "hash": "aee8b7b246df8f9039afb4144a1f6fd8d2ca17a180786b69acc140d282b71a49"
   }
  }
 },
 "nbformat": 4,
 "nbformat_minor": 4
}
